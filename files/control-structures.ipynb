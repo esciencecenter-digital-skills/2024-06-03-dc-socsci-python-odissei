{
 "cells": [
  {
   "cell_type": "markdown",
   "id": "52f1f460-dbdc-4cb1-bbb7-d00130b65705",
   "metadata": {},
   "source": [
    "# Control structures"
   ]
  },
  {
   "cell_type": "markdown",
   "id": "adbd4d5a-0759-43f6-baa8-7548d37d9a0f",
   "metadata": {},
   "source": [
    "- if (elif, else)\n",
    "- while\n",
    "- for"
   ]
  },
  {
   "cell_type": "raw",
   "id": "bcc2f0e5-5410-40da-ad7c-92dcd82770d2",
   "metadata": {},
   "source": [
    "if expression:\n",
    "    statement 1\n",
    "    statement 2\n",
    "    ...\n",
    "    statement n\n",
    "\n",
    "statement always executed"
   ]
  },
  {
   "cell_type": "code",
   "execution_count": 15,
   "id": "52e91ad4-fe14-4326-b611-5ea18df251fd",
   "metadata": {},
   "outputs": [
    {
     "name": "stdout",
     "output_type": "stream",
     "text": [
      "\n",
      "Example 1\n",
      "\n",
      "value is 5 threshold is 4\n",
      "5 is bigger than 4\n",
      "\n",
      "Example 2\n",
      "\n",
      "value is 5 new threshold is 6\n",
      "smaller instead\n",
      "\n",
      "Example 3\n",
      "\n",
      "value is 5 final threshold is 5\n",
      "value 5 and threshold 5 are equal\n"
     ]
    }
   ],
   "source": [
    "print(\"\\nExample 1\\n\")\n",
    "\n",
    "value = 5\n",
    "threshold = 4\n",
    "print(\"value is\", value, \"threshold is\", threshold)\n",
    "if value > threshold:\n",
    "    print(value, \"is bigger than\", threshold)\n",
    "\n",
    "print(\"\\nExample 2\\n\")\n",
    "high_threshold = 6\n",
    "print(\"value is\", value, \"new threshold is\", high_threshold)\n",
    "if value => high_threshold:\n",
    "    print(value, \"is above\", high_threshold, \"threshold\")\n",
    "#if value <= high_threshold:\n",
    "else:\n",
    "    print(\"smaller instead\")\n",
    "\n",
    "print(\"\\nExample 3\\n\")\n",
    "mid_threshold = 5\n",
    "print(\"value is\", value, \"final threshold is\", mid_threshold)\n",
    "if value == mid_threshold:\n",
    "    print(\"value\", value, \"and threshold\", mid_threshold, \"are equal\")"
   ]
  },
  {
   "cell_type": "code",
   "execution_count": 20,
   "id": "eadd1a7a-8d71-4d57-b42c-18f978283a06",
   "metadata": {},
   "outputs": [
    {
     "name": "stdout",
     "output_type": "stream",
     "text": [
      "a =  3 b =  4\n",
      "smaller than\n"
     ]
    }
   ],
   "source": [
    "a = 3\n",
    "b = 4\n",
    "print(\"a = \", a, \"b = \", b)\n",
    "\n",
    "if a > b:\n",
    "    print(\"greater than\")\n",
    "elif a == b:\n",
    "    print(\"equal\")\n",
    "else:\n",
    "    print(\"smaller than\")"
   ]
  },
  {
   "cell_type": "code",
   "execution_count": 21,
   "id": "787d318c-8f8d-4aa3-a6cf-223725895609",
   "metadata": {},
   "outputs": [
    {
     "name": "stdout",
     "output_type": "stream",
     "text": [
      "a =  3 b =  4\n",
      "smaller than\n"
     ]
    }
   ],
   "source": [
    "a = 3\n",
    "b = 4\n",
    "print(\"a = \", a, \"b = \", b)\n",
    "\n",
    "if a > b:\n",
    "    print(\"greater than\")\n",
    "else:\n",
    "    print(\"smaller than\")"
   ]
  },
  {
   "cell_type": "code",
   "execution_count": 22,
   "id": "565e5214-6589-448b-8a84-ed6f8c8cd8ff",
   "metadata": {},
   "outputs": [],
   "source": [
    "apple_cost = 0.5\n",
    "bread_cost = 2.5\n",
    "money = 2"
   ]
  },
  {
   "cell_type": "code",
   "execution_count": 27,
   "id": "85c944d4-6fd0-44a1-b784-ad6045dd56c2",
   "metadata": {},
   "outputs": [
    {
     "name": "stdout",
     "output_type": "stream",
     "text": [
      "At least I can buy an apple!\n"
     ]
    }
   ],
   "source": [
    "if money >= bread_cost:\n",
    "    print(\"I can buy bread!\")\n",
    "elif money >= apple_cost:\n",
    "    print(\"At least I can buy an apple!\")"
   ]
  },
  {
   "cell_type": "markdown",
   "id": "a2a25c9c-be8d-49a9-bd0a-b0721fb320d3",
   "metadata": {},
   "source": [
    "## while"
   ]
  },
  {
   "cell_type": "code",
   "execution_count": 31,
   "id": "9975e5d1-7457-4a5c-998e-1c468ca1d0b4",
   "metadata": {},
   "outputs": [
    {
     "name": "stdout",
     "output_type": "stream",
     "text": [
      "The sum from 1 to  10  is 55\n"
     ]
    }
   ],
   "source": [
    "# sum numbers form 1 to 10\n",
    "n = 10\n",
    "cur_sum = 0\n",
    "i = 1\n",
    "while i <= n:\n",
    "    cur_sum = cur_sum + i\n",
    "    i = i + 1\n",
    "\n",
    "print(\"The sum from 1 to \", n, \" is\", cur_sum)"
   ]
  },
  {
   "cell_type": "markdown",
   "id": "205e0dba-7deb-4b30-9040-c3003d3d559a",
   "metadata": {},
   "source": [
    "## for"
   ]
  },
  {
   "cell_type": "raw",
   "id": "03e94820-c767-42c2-ad88-89cc0c00df0e",
   "metadata": {},
   "source": [
    "for variable_name in some_sequence:\n",
    "    statement 1\n",
    "    statement 2\n",
    "    ...\n",
    "    statement n\n",
    "\n",
    "statement afterwards"
   ]
  },
  {
   "cell_type": "code",
   "execution_count": 32,
   "id": "8e8451bb-257d-46df-84a6-da3b2a97714c",
   "metadata": {},
   "outputs": [
    {
     "name": "stdout",
     "output_type": "stream",
     "text": [
      "1\n",
      "2\n",
      "3\n"
     ]
    }
   ],
   "source": [
    "for i in [1,2,3]:\n",
    "    print(i)"
   ]
  },
  {
   "cell_type": "code",
   "execution_count": 33,
   "id": "9de4b6c7-67c4-4266-b245-df9a668f4782",
   "metadata": {},
   "outputs": [
    {
     "name": "stdout",
     "output_type": "stream",
     "text": [
      "Tom\n",
      "42\n",
      "3.142\n"
     ]
    }
   ],
   "source": [
    "for name in [\"Tom\", 42, 3.142]:\n",
    "    print(name)"
   ]
  },
  {
   "cell_type": "code",
   "execution_count": 34,
   "id": "1c928cde-5e36-434a-a448-d0b300e06073",
   "metadata": {},
   "outputs": [
    {
     "name": "stdout",
     "output_type": "stream",
     "text": [
      "0\n",
      "1\n",
      "2\n"
     ]
    }
   ],
   "source": [
    "for i in range(3):\n",
    "    print(i)"
   ]
  },
  {
   "cell_type": "code",
   "execution_count": 35,
   "id": "c4861523-db77-46f0-937e-6cc3eb646ed1",
   "metadata": {},
   "outputs": [
    {
     "name": "stdout",
     "output_type": "stream",
     "text": [
      "2\n",
      "4\n",
      "6\n",
      "8\n",
      "10\n"
     ]
    }
   ],
   "source": [
    "for i in range(2, 11, 2):\n",
    "    print(i)"
   ]
  },
  {
   "cell_type": "code",
   "execution_count": 36,
   "id": "7c3b2adf-7b9a-4d5f-804d-d2aa8cbb4897",
   "metadata": {},
   "outputs": [
    {
     "name": "stdout",
     "output_type": "stream",
     "text": [
      "A\n",
      "B\n",
      "C\n",
      "D\n",
      "E\n"
     ]
    }
   ],
   "source": [
    "for i in \"ABCDE\":\n",
    "    print(i)"
   ]
  },
  {
   "cell_type": "code",
   "execution_count": 37,
   "id": "2ca80684-7f81-4ef6-8007-837d1d7eb953",
   "metadata": {},
   "outputs": [
    {
     "name": "stdout",
     "output_type": "stream",
     "text": [
      "The\n",
      "quick\n",
      "brown\n",
      "fox\n",
      "jumped\n",
      "over\n",
      "the\n",
      "lazy\n",
      "sleeping\n",
      "dog\n"
     ]
    }
   ],
   "source": [
    "longString = \"The quick brown fox jumped over the lazy sleeping dog\"\n",
    "for word in longString.split():\n",
    "    print(word)"
   ]
  },
  {
   "cell_type": "code",
   "execution_count": 39,
   "id": "d4ac60bc-e05d-4a26-91b4-43a9aae9e5b4",
   "metadata": {},
   "outputs": [
    {
     "name": "stdout",
     "output_type": "stream",
     "text": [
      "01/01/2010\n",
      "34.5\n",
      "Yellow\n",
      "True\n"
     ]
    }
   ],
   "source": [
    "variablelist = \"01/01/2010,34.5,Yellow,True\"\n",
    "for item in variablelist.split(\",\"):\n",
    "    print(item)"
   ]
  },
  {
   "cell_type": "markdown",
   "id": "36660654-da2b-4a35-a2c1-f143ae74bd1e",
   "metadata": {},
   "source": [
    "- Most programs will require 'Loops' and 'Branching' constructs.\n",
    "- The `if`, `elif`, `else` statements allow for branching in code.\n",
    "- The `for` and `while` statements allow for looping through sections of code\n",
    "- The programmer must provide a condition to end a `while` loop."
   ]
  }
 ],
 "metadata": {
  "kernelspec": {
   "display_name": "Python 3 (ipykernel)",
   "language": "python",
   "name": "python3"
  },
  "language_info": {
   "codemirror_mode": {
    "name": "ipython",
    "version": 3
   },
   "file_extension": ".py",
   "mimetype": "text/x-python",
   "name": "python",
   "nbconvert_exporter": "python",
   "pygments_lexer": "ipython3",
   "version": "3.10.14"
  }
 },
 "nbformat": 4,
 "nbformat_minor": 5
}
