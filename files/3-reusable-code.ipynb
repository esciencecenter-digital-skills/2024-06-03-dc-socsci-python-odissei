{
 "cells": [
  {
   "cell_type": "markdown",
   "id": "da67a898-006f-4bdb-8c70-a9f8e3ead8ee",
   "metadata": {},
   "source": [
    "# Reusable code: functions"
   ]
  },
  {
   "cell_type": "code",
   "execution_count": 1,
   "id": "e33a0f42-601d-4ba9-be85-ba9d26a0026a",
   "metadata": {},
   "outputs": [
    {
     "name": "stdout",
     "output_type": "stream",
     "text": [
      "4\n"
     ]
    }
   ],
   "source": [
    "def get_item_count(items_str,sep):\n",
    "    '''\n",
    "    This function takes a string with a list of items and the character that they're separated by and returns the number of items\n",
    "    '''\n",
    "    items_list = items_str.split(sep)\n",
    "    num_items = len(items_list)\n",
    "    return num_items\n",
    "\n",
    "items_owned = \"bicycle;television;solar_panel;table\"\n",
    "print(get_item_count(items_owned,';'))"
   ]
  },
  {
   "cell_type": "markdown",
   "id": "893c04c9-9d12-45c8-abc0-c593b5fe4155",
   "metadata": {},
   "source": [
    "![](https://datacarpentry.org/python-socialsci/fig/functionAnatomy.png)"
   ]
  },
  {
   "cell_type": "code",
   "execution_count": 2,
   "id": "fe0b986e-2df5-4f9b-9116-78af8acac572",
   "metadata": {},
   "outputs": [
    {
     "name": "stdout",
     "output_type": "stream",
     "text": [
      "Help on function get_item_count in module __main__:\n",
      "\n",
      "get_item_count(items_str, sep)\n",
      "    This function takes a string with a list of items and the character that they're separated by and returns the number of items\n",
      "\n"
     ]
    }
   ],
   "source": [
    "help(get_item_count)  # or shift + tab"
   ]
  },
  {
   "cell_type": "code",
   "execution_count": 3,
   "id": "2860d001-b171-4ad9-b43e-d8777c6f9e10",
   "metadata": {},
   "outputs": [
    {
     "name": "stdout",
     "output_type": "stream",
     "text": [
      "1\n",
      "4\n"
     ]
    }
   ],
   "source": [
    "print(get_item_count(items_owned, sep=','))\n",
    "print(get_item_count(items_str = items_owned, sep=';'))"
   ]
  },
  {
   "cell_type": "markdown",
   "id": "d9dc6401-d7e5-4438-adb0-0e868ce699d9",
   "metadata": {},
   "source": [
    "### Exercise: Creating functions\n",
    "1. Write a function definition to calculate the volume of a cuboid. The function will use three parameters h, w and l and return the volume.\n",
    "2. Supposing that in addition to the volume I also wanted to calculate the surface area and the total combined length of all of the edges. Would I (or should I) have three separate functions or could I write a single function to provide all three values together?"
   ]
  },
  {
   "cell_type": "code",
   "execution_count": 4,
   "id": "9ed82c0e-6fac-4a38-b620-f55ea0100c54",
   "metadata": {},
   "outputs": [],
   "source": [
    "def get_cuboid_volume(h, w, l):\n",
    "    '''\n",
    "    Calculate volume based on height, width and length\n",
    "    '''\n",
    "    volume = h*w*l\n",
    "    edges_length = 4*h + 4*w + 4*l\n",
    "    return volume, edges_length\n",
    "    "
   ]
  },
  {
   "cell_type": "raw",
   "id": "b677ca8a-2a3a-4442-ac5a-0b0efaef1191",
   "metadata": {},
   "source": [
    "Or, you can define separate functions, each for its own purpose:"
   ]
  },
  {
   "cell_type": "code",
   "execution_count": 5,
   "id": "f9a5e0cd-1418-4591-921b-1d51b5b97619",
   "metadata": {},
   "outputs": [],
   "source": [
    "def calc_volume_of_cuboid(h, w, l):\n",
    "    \"\"\"\n",
    "    Calculates the volume of a cuboid defined by the dimensions h(eight), w(idth), and len(gth).\n",
    "    \"\"\"\n",
    "    volume = h * w * l\n",
    "    return volume\n",
    "\n",
    "\n",
    "def calc_sum_of_edges_of_cuboid(h, w, l):\n",
    "    \"\"\"\n",
    "    Calculates the sum of edges of a cuboid defined by the dimensions h(eight), w(idth), and len(gth).\n",
    "    \"\"\"   \n",
    "    sum_of_edges = 4 * (h + w + l)\n",
    "    return sum_of_edges"
   ]
  }
 ],
 "metadata": {
  "kernelspec": {
   "display_name": "Python 3 (ipykernel)",
   "language": "python",
   "name": "python3"
  },
  "language_info": {
   "codemirror_mode": {
    "name": "ipython",
    "version": 3
   },
   "file_extension": ".py",
   "mimetype": "text/x-python",
   "name": "python",
   "nbconvert_exporter": "python",
   "pygments_lexer": "ipython3",
   "version": "3.12.3"
  }
 },
 "nbformat": 4,
 "nbformat_minor": 5
}
