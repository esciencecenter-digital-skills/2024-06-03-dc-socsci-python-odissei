{
 "cells": [
  {
   "cell_type": "markdown",
   "id": "b2fc3b31-657c-45af-a47a-76a345b1d8e3",
   "metadata": {},
   "source": [
    "# Python basics\n",
    "- Create different cell types and show/hide output in Jupyter\n",
    "- Create variables and assign values to them\n",
    "- Check the type of a variable\n",
    "- Perform simple arithmetic operations\n",
    "- Specify parameters when using built-in functions\n",
    "- Get help for built-in functions and other aspects of Python\n",
    "- Define native data types in Python\n",
    "- Convert from one data type to another"
   ]
  },
  {
   "cell_type": "markdown",
   "id": "11ac3682-6e86-4e19-9524-b58de623af2c",
   "metadata": {},
   "source": [
    "## Creating variables and assigning values"
   ]
  },
  {
   "cell_type": "code",
   "execution_count": 2,
   "id": "06010d14-8fb5-4f57-b632-eb60115165b3",
   "metadata": {},
   "outputs": [
    {
     "name": "stdout",
     "output_type": "stream",
     "text": [
      "Hello world!\n"
     ]
    }
   ],
   "source": [
    "print('Hello world!')"
   ]
  },
  {
   "cell_type": "code",
   "execution_count": 7,
   "id": "158db6c8-743a-4704-aae1-0db18a8a5aa7",
   "metadata": {},
   "outputs": [],
   "source": [
    "a = 2 # assign value 2 to variable 'a'\n",
    "b = 3.142"
   ]
  },
  {
   "cell_type": "code",
   "execution_count": 8,
   "id": "ef415aa9-64f7-45a8-82cb-f5a66653c90b",
   "metadata": {},
   "outputs": [
    {
     "data": {
      "text/plain": [
       "2"
      ]
     },
     "execution_count": 8,
     "metadata": {},
     "output_type": "execute_result"
    }
   ],
   "source": [
    "a"
   ]
  },
  {
   "cell_type": "code",
   "execution_count": 9,
   "id": "b1dcbfcc-9783-4882-8d90-15856ad1c332",
   "metadata": {},
   "outputs": [
    {
     "data": {
      "text/plain": [
       "int"
      ]
     },
     "execution_count": 9,
     "metadata": {},
     "output_type": "execute_result"
    }
   ],
   "source": [
    "type(a)"
   ]
  },
  {
   "cell_type": "code",
   "execution_count": 10,
   "id": "60f230b7-3864-4f6c-9fb0-b5233d3cf1c9",
   "metadata": {},
   "outputs": [
    {
     "data": {
      "text/plain": [
       "float"
      ]
     },
     "execution_count": 10,
     "metadata": {},
     "output_type": "execute_result"
    }
   ],
   "source": [
    "type(b)"
   ]
  },
  {
   "cell_type": "code",
   "execution_count": 11,
   "id": "6e242b0f-4e39-45f2-8369-bddd4aa9bd92",
   "metadata": {},
   "outputs": [],
   "source": [
    "s = \"hello world\""
   ]
  },
  {
   "cell_type": "code",
   "execution_count": 12,
   "id": "efb150b7-2c58-4ec4-a93b-2449df3a6e8f",
   "metadata": {},
   "outputs": [
    {
     "data": {
      "text/plain": [
       "str"
      ]
     },
     "execution_count": 12,
     "metadata": {},
     "output_type": "execute_result"
    }
   ],
   "source": [
    "type(s)"
   ]
  },
  {
   "cell_type": "code",
   "execution_count": 14,
   "id": "e18e1427-1c80-4d37-ba50-ae002460cf36",
   "metadata": {},
   "outputs": [
    {
     "data": {
      "text/plain": [
       "\"Hello, this is Sven's name\""
      ]
     },
     "execution_count": 14,
     "metadata": {},
     "output_type": "execute_result"
    }
   ],
   "source": [
    "\"Hello, this is Sven's name\""
   ]
  },
  {
   "cell_type": "code",
   "execution_count": 15,
   "id": "5a51b353-0daf-4c38-890b-807a7e6cb6e2",
   "metadata": {},
   "outputs": [
    {
     "data": {
      "text/plain": [
       "'This is \"a quote\"'"
      ]
     },
     "execution_count": 15,
     "metadata": {},
     "output_type": "execute_result"
    }
   ],
   "source": [
    "'This is \"a quote\"'"
   ]
  },
  {
   "cell_type": "markdown",
   "id": "375470b1-f113-4b23-a19a-14d7dd3818d9",
   "metadata": {},
   "source": [
    "## Arithmetic operations"
   ]
  },
  {
   "cell_type": "code",
   "execution_count": 16,
   "id": "fe3800ba-2fb5-4e41-8d1e-9ca0d6ef3256",
   "metadata": {},
   "outputs": [
    {
     "data": {
      "text/plain": [
       "5.1419999999999995"
      ]
     },
     "execution_count": 16,
     "metadata": {},
     "output_type": "execute_result"
    }
   ],
   "source": [
    "a + b"
   ]
  },
  {
   "cell_type": "code",
   "execution_count": 17,
   "id": "9294e0aa-4c1f-4f8c-a136-b61b9c58d8ce",
   "metadata": {},
   "outputs": [
    {
     "data": {
      "text/plain": [
       "6.284"
      ]
     },
     "execution_count": 17,
     "metadata": {},
     "output_type": "execute_result"
    }
   ],
   "source": [
    "a * b"
   ]
  },
  {
   "cell_type": "code",
   "execution_count": 18,
   "id": "b85f2aed-cb0e-4c60-acf0-eb6a91f67cee",
   "metadata": {},
   "outputs": [],
   "source": [
    "c = a + b"
   ]
  },
  {
   "cell_type": "code",
   "execution_count": 19,
   "id": "095e274e-5ea4-4859-a415-966913121c2a",
   "metadata": {},
   "outputs": [
    {
     "name": "stdout",
     "output_type": "stream",
     "text": [
      "5.1419999999999995\n"
     ]
    }
   ],
   "source": [
    "print(c)"
   ]
  },
  {
   "cell_type": "code",
   "execution_count": 20,
   "id": "00da793a-e028-46b5-89ae-a870aa12f91e",
   "metadata": {},
   "outputs": [
    {
     "data": {
      "text/plain": [
       "8.283999999999999"
      ]
     },
     "execution_count": 20,
     "metadata": {},
     "output_type": "execute_result"
    }
   ],
   "source": [
    "a + 2*b"
   ]
  },
  {
   "cell_type": "code",
   "execution_count": 21,
   "id": "b2d7bab0-1f52-4ef4-b512-af304566175c",
   "metadata": {},
   "outputs": [
    {
     "data": {
      "text/plain": [
       "10.283999999999999"
      ]
     },
     "execution_count": 21,
     "metadata": {},
     "output_type": "execute_result"
    }
   ],
   "source": [
    "(a + b)*2"
   ]
  },
  {
   "cell_type": "markdown",
   "id": "893d80bd-701d-42bb-bfd5-94bd4aba6228",
   "metadata": {},
   "source": [
    "### Exercise: Arithmetic and printing\n",
    "Create a new cell and paste the following code into it:\n",
    "```python=\n",
    "print(\"a =\", a, \"and b =\", b)\n",
    "print(a + 2*b)\n",
    "print(a + (2*b))\n",
    "print((a + b)*2)\n",
    "```\n",
    "1. Remove all of the calls to the print function so you only have the expressions that were to be printed and run the code. What is returned?\n",
    "2. Now remove all but the first line (with the 4 items in it) and run the cell again. How does this output differ from when we used the print function?"
   ]
  },
  {
   "cell_type": "code",
   "execution_count": 22,
   "id": "4485f580-cf14-4e9d-8e9c-ec1b3f6f057a",
   "metadata": {},
   "outputs": [
    {
     "name": "stdout",
     "output_type": "stream",
     "text": [
      "a = 2 and b = 3.142\n",
      "8.283999999999999\n",
      "8.283999999999999\n",
      "10.283999999999999\n"
     ]
    }
   ],
   "source": [
    "print(\"a =\", a, \"and b =\", b)\n",
    "print(a + 2*b)\n",
    "print(a + (2*b))\n",
    "print((a + b)*2)"
   ]
  },
  {
   "cell_type": "code",
   "execution_count": 23,
   "id": "1deb5639-dff1-410f-8c4d-72e785068ecf",
   "metadata": {},
   "outputs": [
    {
     "data": {
      "text/plain": [
       "10.283999999999999"
      ]
     },
     "execution_count": 23,
     "metadata": {},
     "output_type": "execute_result"
    }
   ],
   "source": [
    "\"a =\", a, \"and b =\", b\n",
    "a + 2*b\n",
    "a + (2*b)\n",
    "(a + b)*2"
   ]
  },
  {
   "cell_type": "code",
   "execution_count": 24,
   "id": "02a9bea8-52cc-4099-b5f9-874f819623fa",
   "metadata": {},
   "outputs": [
    {
     "data": {
      "text/plain": [
       "('a =', 2, 'and b =', 3.142)"
      ]
     },
     "execution_count": 24,
     "metadata": {},
     "output_type": "execute_result"
    }
   ],
   "source": [
    "\"a =\", a, \"and b =\", b"
   ]
  },
  {
   "cell_type": "markdown",
   "id": "ca40cb92-160e-496d-bab3-78b715e69941",
   "metadata": {},
   "source": [
    "## Using built-in functions & getting help in Python"
   ]
  },
  {
   "cell_type": "code",
   "execution_count": 25,
   "id": "8a02d774-69bc-480d-9fd2-730d1b5f0f5c",
   "metadata": {},
   "outputs": [
    {
     "name": "stdout",
     "output_type": "stream",
     "text": [
      "2\n"
     ]
    }
   ],
   "source": [
    "print(a) # use parantheses for functions, inside them are arguments for the function"
   ]
  },
  {
   "cell_type": "code",
   "execution_count": 26,
   "id": "bbbd3b5f-9ace-4067-98c2-3511bd8b15b6",
   "metadata": {},
   "outputs": [
    {
     "name": "stdout",
     "output_type": "stream",
     "text": [
      "2 3.142\n"
     ]
    }
   ],
   "source": [
    "print(a, b)"
   ]
  },
  {
   "cell_type": "code",
   "execution_count": 28,
   "id": "3fe4af19-f497-4df8-910a-1a22e474f28e",
   "metadata": {},
   "outputs": [
    {
     "name": "stdout",
     "output_type": "stream",
     "text": [
      "2cool separator3.142cool separatorwhatever\n"
     ]
    }
   ],
   "source": [
    "print(a, b, 'whatever', sep='cool separator')"
   ]
  },
  {
   "cell_type": "code",
   "execution_count": 29,
   "id": "6d80d295-f390-4e81-aa20-44fd02af122b",
   "metadata": {},
   "outputs": [
    {
     "name": "stdout",
     "output_type": "stream",
     "text": [
      "Help on built-in function print in module builtins:\n",
      "\n",
      "print(*args, sep=' ', end='\\n', file=None, flush=False)\n",
      "    Prints the values to a stream, or to sys.stdout by default.\n",
      "    \n",
      "    sep\n",
      "      string inserted between values, default a space.\n",
      "    end\n",
      "      string appended after the last value, default a newline.\n",
      "    file\n",
      "      a file-like object (stream); defaults to the current sys.stdout.\n",
      "    flush\n",
      "      whether to forcibly flush the stream.\n",
      "\n"
     ]
    }
   ],
   "source": [
    "help(print)"
   ]
  },
  {
   "cell_type": "markdown",
   "id": "4d694e15-8f79-4965-bea8-ce1ab36ad3f3",
   "metadata": {},
   "source": [
    "## A bit more on data types"
   ]
  },
  {
   "cell_type": "code",
   "execution_count": 30,
   "id": "ff365b53-a58c-4415-9fbd-3586b0e19fbc",
   "metadata": {},
   "outputs": [
    {
     "data": {
      "text/plain": [
       "int"
      ]
     },
     "execution_count": 30,
     "metadata": {},
     "output_type": "execute_result"
    }
   ],
   "source": [
    "type(a)"
   ]
  },
  {
   "cell_type": "code",
   "execution_count": 31,
   "id": "64170cb9-fa1f-4db3-8dfa-1e16e9a07fc9",
   "metadata": {},
   "outputs": [],
   "source": [
    "a = float(a)"
   ]
  },
  {
   "cell_type": "code",
   "execution_count": 32,
   "id": "f84413c7-4c77-41dd-8901-6cf5d997eccf",
   "metadata": {},
   "outputs": [
    {
     "data": {
      "text/plain": [
       "float"
      ]
     },
     "execution_count": 32,
     "metadata": {},
     "output_type": "execute_result"
    }
   ],
   "source": [
    "type(a)"
   ]
  },
  {
   "cell_type": "code",
   "execution_count": 33,
   "id": "602b5fc5-c32c-4daf-85a4-ba4d6408e5e3",
   "metadata": {},
   "outputs": [],
   "source": [
    "a = 3.142"
   ]
  },
  {
   "cell_type": "code",
   "execution_count": 34,
   "id": "5137faa2-738c-4db3-b01d-d47828b9a9f0",
   "metadata": {},
   "outputs": [
    {
     "data": {
      "text/plain": [
       "float"
      ]
     },
     "execution_count": 34,
     "metadata": {},
     "output_type": "execute_result"
    }
   ],
   "source": [
    "type(a)"
   ]
  },
  {
   "cell_type": "code",
   "execution_count": 35,
   "id": "cd24b700-9bbe-4f92-93c7-c718241dc08b",
   "metadata": {},
   "outputs": [],
   "source": [
    "a = int(a)"
   ]
  },
  {
   "cell_type": "code",
   "execution_count": 36,
   "id": "be836fc6-1eb7-4253-9943-c039e5cabc70",
   "metadata": {},
   "outputs": [
    {
     "data": {
      "text/plain": [
       "3"
      ]
     },
     "execution_count": 36,
     "metadata": {},
     "output_type": "execute_result"
    }
   ],
   "source": [
    "a"
   ]
  },
  {
   "cell_type": "code",
   "execution_count": 37,
   "id": "e35b058c-0591-4300-85e9-3c1a2c90a78b",
   "metadata": {},
   "outputs": [
    {
     "data": {
      "text/plain": [
       "'hello world'"
      ]
     },
     "execution_count": 37,
     "metadata": {},
     "output_type": "execute_result"
    }
   ],
   "source": [
    "s"
   ]
  },
  {
   "cell_type": "code",
   "execution_count": 39,
   "id": "39aa6fd9-9e17-4786-8d87-2de424fb8da7",
   "metadata": {},
   "outputs": [
    {
     "name": "stdout",
     "output_type": "stream",
     "text": [
      "hello world\n"
     ]
    },
    {
     "ename": "ValueError",
     "evalue": "invalid literal for int() with base 10: 'hello world'",
     "output_type": "error",
     "traceback": [
      "\u001b[0;31m---------------------------------------------------------------------------\u001b[0m",
      "\u001b[0;31mValueError\u001b[0m                                Traceback (most recent call last)",
      "Cell \u001b[0;32mIn[39], line 2\u001b[0m\n\u001b[1;32m      1\u001b[0m \u001b[38;5;28mprint\u001b[39m(\u001b[38;5;124m'\u001b[39m\u001b[38;5;124mhello world\u001b[39m\u001b[38;5;124m'\u001b[39m)\n\u001b[0;32m----> 2\u001b[0m s \u001b[38;5;241m=\u001b[39m \u001b[38;5;28mint\u001b[39m(s)\n\u001b[1;32m      3\u001b[0m \u001b[38;5;28mprint\u001b[39m(\u001b[38;5;124m'\u001b[39m\u001b[38;5;124mending\u001b[39m\u001b[38;5;124m'\u001b[39m)\n",
      "\u001b[0;31mValueError\u001b[0m: invalid literal for int() with base 10: 'hello world'"
     ]
    }
   ],
   "source": [
    "print('hello world')\n",
    "s = int(s)\n",
    "print('ending')"
   ]
  },
  {
   "cell_type": "markdown",
   "id": "e6d3e468-cafa-4bfb-be1d-03e65c11a0d8",
   "metadata": {},
   "source": [
    "## Strings"
   ]
  },
  {
   "cell_type": "code",
   "execution_count": 40,
   "id": "02678725-86d4-41c9-919f-1b6a42c2ae33",
   "metadata": {},
   "outputs": [
    {
     "data": {
      "text/plain": [
       "'hello world'"
      ]
     },
     "execution_count": 40,
     "metadata": {},
     "output_type": "execute_result"
    }
   ],
   "source": [
    "s"
   ]
  },
  {
   "cell_type": "code",
   "execution_count": 41,
   "id": "8f16eb95-2332-40f3-a160-bd7c71ee8d76",
   "metadata": {},
   "outputs": [],
   "source": [
    "name = \"Sven\""
   ]
  },
  {
   "cell_type": "code",
   "execution_count": 42,
   "id": "55909aca-fa43-4531-b328-61d4e18e396d",
   "metadata": {},
   "outputs": [
    {
     "data": {
      "text/plain": [
       "'Hello Sven How are you?'"
      ]
     },
     "execution_count": 42,
     "metadata": {},
     "output_type": "execute_result"
    }
   ],
   "source": [
    "'Hello ' + name + ' How are you?'"
   ]
  },
  {
   "attachments": {
    "e8fff90b-2a34-4b7d-a277-c2ac9090ff87.png": {
     "image/png": "[encoded data removed]"
    }
   },
   "cell_type": "markdown",
   "id": "0944a878-16e1-4e5a-8b9d-84d2a99eb135",
   "metadata": {},
   "source": [
    " ![image.png](attachment:e8fff90b-2a34-4b7d-a277-c2ac9090ff87.png)"
   ]
  },
  {
   "cell_type": "code",
   "execution_count": 43,
   "id": "a613701b-bed3-4312-a643-9df38d59e2ec",
   "metadata": {},
   "outputs": [
    {
     "data": {
      "text/plain": [
       "11"
      ]
     },
     "execution_count": 43,
     "metadata": {},
     "output_type": "execute_result"
    }
   ],
   "source": [
    "len(s)"
   ]
  },
  {
   "cell_type": "markdown",
   "id": "a6d2ebb6-e2a5-4261-84d9-0e5b6a18c00d",
   "metadata": {},
   "source": [
    "Methods are functions associated to objects"
   ]
  },
  {
   "cell_type": "code",
   "execution_count": 44,
   "id": "fdb19065-0326-436e-a883-b67e89ecfe5f",
   "metadata": {},
   "outputs": [],
   "source": [
    "my_string = 'The quick brown fox'"
   ]
  },
  {
   "cell_type": "code",
   "execution_count": 47,
   "id": "80209b33-836f-4990-ade1-4abc53f38e25",
   "metadata": {},
   "outputs": [
    {
     "data": {
      "text/plain": [
       "True"
      ]
     },
     "execution_count": 47,
     "metadata": {},
     "output_type": "execute_result"
    }
   ],
   "source": [
    "my_string.startswith(\"The\")"
   ]
  },
  {
   "cell_type": "code",
   "execution_count": 48,
   "id": "5a712370-cdf2-4c2b-a241-2c6453e408d3",
   "metadata": {},
   "outputs": [
    {
     "data": {
      "text/plain": [
       "10"
      ]
     },
     "execution_count": 48,
     "metadata": {},
     "output_type": "execute_result"
    }
   ],
   "source": [
    "my_string.find(\"brown\")"
   ]
  },
  {
   "attachments": {
    "e5b30ac6-02b5-4cf2-8a88-3fd20bcd71d2.png": {
     "image/png": "[encoded data removed]"
    }
   },
   "cell_type": "markdown",
   "id": "6f28ddc6-25be-4a12-bbfc-aff53c24a515",
   "metadata": {},
   "source": [
    " ![image.png](attachment:e5b30ac6-02b5-4cf2-8a88-3fd20bcd71d2.png)"
   ]
  },
  {
   "cell_type": "code",
   "execution_count": 50,
   "id": "26ebeac1-428d-476f-89e9-722f8cfed843",
   "metadata": {},
   "outputs": [
    {
     "data": {
      "text/plain": [
       "'T'"
      ]
     },
     "execution_count": 50,
     "metadata": {},
     "output_type": "execute_result"
    }
   ],
   "source": [
    "my_string[0] # Give me the character at index 0"
   ]
  },
  {
   "cell_type": "code",
   "execution_count": 51,
   "id": "f8e5725b-f9aa-4b62-8d7c-54134892daa5",
   "metadata": {},
   "outputs": [
    {
     "data": {
      "text/plain": [
       "'e'"
      ]
     },
     "execution_count": 51,
     "metadata": {},
     "output_type": "execute_result"
    }
   ],
   "source": [
    "my_string[2]"
   ]
  },
  {
   "cell_type": "code",
   "execution_count": 52,
   "id": "0e5ef362-7b04-4252-80cb-60f6a79a1330",
   "metadata": {},
   "outputs": [
    {
     "data": {
      "text/plain": [
       "'The'"
      ]
     },
     "execution_count": 52,
     "metadata": {},
     "output_type": "execute_result"
    }
   ],
   "source": [
    "my_string[0:3]"
   ]
  },
  {
   "cell_type": "code",
   "execution_count": 53,
   "id": "734c6780-8d4d-4042-ad75-a9b736853fbf",
   "metadata": {},
   "outputs": [
    {
     "data": {
      "text/plain": [
       "' quick brown fox'"
      ]
     },
     "execution_count": 53,
     "metadata": {},
     "output_type": "execute_result"
    }
   ],
   "source": [
    "my_string[3:]"
   ]
  },
  {
   "cell_type": "markdown",
   "id": "ccee4d11-05bc-4fb9-8b0e-cd79a8a24969",
   "metadata": {},
   "source": [
    "Square brackets are for accessing things\n",
    "```python\n",
    "my_string[2] # Access the element with index 2\n",
    "```\n",
    "Parenthes are for executing things\n",
    "```\n",
    "print(my_string)\n",
    "```"
   ]
  },
  {
   "cell_type": "markdown",
   "id": "1a560407-93ef-4a37-b46c-4dc8ac58171c",
   "metadata": {},
   "source": [
    "### Exercise: string operations\n",
    "Create a variable called `slugs` and assign it the string: 'The slug eats my young plants'\n",
    "1. Use the `.find()` method to find the index of the word 'slug'.\n",
    "2. Use string indexing to return only the word 'slug'."
   ]
  },
  {
   "cell_type": "code",
   "execution_count": 54,
   "id": "d67663b1-664f-4c01-9afe-c54acd0cdd56",
   "metadata": {},
   "outputs": [],
   "source": [
    "slugs = 'The slug eats my young plants'"
   ]
  },
  {
   "cell_type": "code",
   "execution_count": 55,
   "id": "0435d852-6760-4d71-8dc5-13ed50c69944",
   "metadata": {},
   "outputs": [
    {
     "data": {
      "text/plain": [
       "4"
      ]
     },
     "execution_count": 55,
     "metadata": {},
     "output_type": "execute_result"
    }
   ],
   "source": [
    "slugs.find('slug')"
   ]
  },
  {
   "cell_type": "code",
   "execution_count": 57,
   "id": "91f9ce23-3f72-4d68-8c05-dbcc7d1f7fd3",
   "metadata": {},
   "outputs": [
    {
     "data": {
      "text/plain": [
       "'slug'"
      ]
     },
     "execution_count": 57,
     "metadata": {},
     "output_type": "execute_result"
    }
   ],
   "source": [
    "slugs[4:8]"
   ]
  },
  {
   "cell_type": "markdown",
   "id": "5c490375-d539-4175-85f4-acc44f046c36",
   "metadata": {},
   "source": [
    "Regular expressions"
   ]
  },
  {
   "cell_type": "markdown",
   "id": "2b1c65eb-645f-48ca-8e8d-8a67e34cee3c",
   "metadata": {},
   "source": [
    "## Booleans"
   ]
  },
  {
   "cell_type": "code",
   "execution_count": 65,
   "id": "6cb74ac1-dd5b-44a4-9aa3-34794554531f",
   "metadata": {},
   "outputs": [],
   "source": [
    "x = True"
   ]
  },
  {
   "cell_type": "code",
   "execution_count": 66,
   "id": "e50ae676-6067-43a2-9883-9f153fbed912",
   "metadata": {},
   "outputs": [],
   "source": [
    "y = False"
   ]
  },
  {
   "cell_type": "code",
   "execution_count": 67,
   "id": "8a13b4fb-f882-4263-8e52-cbd2cd4e9a33",
   "metadata": {},
   "outputs": [
    {
     "data": {
      "text/plain": [
       "bool"
      ]
     },
     "execution_count": 67,
     "metadata": {},
     "output_type": "execute_result"
    }
   ],
   "source": [
    "type(x)"
   ]
  },
  {
   "cell_type": "code",
   "execution_count": 61,
   "id": "624cf60f-9a1d-441b-8c19-7aed0b70c84a",
   "metadata": {},
   "outputs": [
    {
     "data": {
      "text/plain": [
       "True"
      ]
     },
     "execution_count": 61,
     "metadata": {},
     "output_type": "execute_result"
    }
   ],
   "source": [
    "'hello' == 'hello'"
   ]
  },
  {
   "cell_type": "code",
   "execution_count": 62,
   "id": "cdc74a27-5260-4d90-beea-fa92d946f226",
   "metadata": {},
   "outputs": [
    {
     "data": {
      "text/plain": [
       "False"
      ]
     },
     "execution_count": 62,
     "metadata": {},
     "output_type": "execute_result"
    }
   ],
   "source": [
    "'hello' == 'Hello'"
   ]
  },
  {
   "cell_type": "code",
   "execution_count": 63,
   "id": "b0517a69-7c48-439e-8093-5172a8422f2d",
   "metadata": {},
   "outputs": [
    {
     "data": {
      "text/plain": [
       "True"
      ]
     },
     "execution_count": 63,
     "metadata": {},
     "output_type": "execute_result"
    }
   ],
   "source": [
    "3 != 77 # is not equal"
   ]
  },
  {
   "cell_type": "code",
   "execution_count": 64,
   "id": "02cd5823-9602-4718-b865-96b1a92f21dd",
   "metadata": {},
   "outputs": [
    {
     "data": {
      "text/plain": [
       "True"
      ]
     },
     "execution_count": 64,
     "metadata": {},
     "output_type": "execute_result"
    }
   ],
   "source": [
    "1 < 2 # is 1 smaller than 2?"
   ]
  },
  {
   "cell_type": "code",
   "execution_count": 68,
   "id": "fc088ef6-0a7d-4ca1-bd1f-1d8e1692a1d5",
   "metadata": {},
   "outputs": [
    {
     "name": "stdout",
     "output_type": "stream",
     "text": [
      "\n"
     ]
    },
    {
     "data": {
      "text/plain": [
       "'HELLO WORLD'"
      ]
     },
     "execution_count": 68,
     "metadata": {},
     "output_type": "execute_result"
    }
   ],
   "source": [
    "print() # function\n",
    "s.upper() # method (dot function)"
   ]
  },
  {
   "cell_type": "code",
   "execution_count": 69,
   "id": "f6c3d6a3-2cee-49d4-be8b-82a23be7ef4c",
   "metadata": {},
   "outputs": [
    {
     "ename": "AttributeError",
     "evalue": "'int' object has no attribute 'upper'",
     "output_type": "error",
     "traceback": [
      "\u001b[0;31m---------------------------------------------------------------------------\u001b[0m",
      "\u001b[0;31mAttributeError\u001b[0m                            Traceback (most recent call last)",
      "Cell \u001b[0;32mIn[69], line 2\u001b[0m\n\u001b[1;32m      1\u001b[0m a \u001b[38;5;241m=\u001b[39m \u001b[38;5;241m3\u001b[39m\n\u001b[0;32m----> 2\u001b[0m a\u001b[38;5;241m.\u001b[39mupper()\n",
      "\u001b[0;31mAttributeError\u001b[0m: 'int' object has no attribute 'upper'"
     ]
    }
   ],
   "source": [
    "a = 3\n",
    "a.upper()"
   ]
  },
  {
   "cell_type": "markdown",
   "id": "ff11480e-cb17-4247-be4f-edaf6db3b8d8",
   "metadata": {},
   "source": [
    "## The list"
   ]
  },
  {
   "cell_type": "code",
   "execution_count": 70,
   "id": "7504d09a-2712-48d1-b4c0-8f2fcb4d94bf",
   "metadata": {},
   "outputs": [],
   "source": [
    "list1 = [6, 54, 89.3, name, True]"
   ]
  },
  {
   "cell_type": "code",
   "execution_count": 71,
   "id": "8a5665c6-4b6c-49eb-a952-4abbe7c915ad",
   "metadata": {},
   "outputs": [
    {
     "name": "stdout",
     "output_type": "stream",
     "text": [
      "[6, 54, 89.3, 'Sven', True]\n"
     ]
    }
   ],
   "source": [
    "print(list1)"
   ]
  },
  {
   "cell_type": "code",
   "execution_count": 72,
   "id": "469ec8de-66a8-4acd-ab70-f25ccdcd2885",
   "metadata": {},
   "outputs": [
    {
     "data": {
      "text/plain": [
       "54"
      ]
     },
     "execution_count": 72,
     "metadata": {},
     "output_type": "execute_result"
    }
   ],
   "source": [
    "list1[1]"
   ]
  },
  {
   "cell_type": "code",
   "execution_count": 73,
   "id": "cb1755ef-04c7-410c-9fef-c91eb665c0c6",
   "metadata": {},
   "outputs": [
    {
     "data": {
      "text/plain": [
       "[0, 1, 2, 3, 4]"
      ]
     },
     "execution_count": 73,
     "metadata": {},
     "output_type": "execute_result"
    }
   ],
   "source": [
    "list(range(5))"
   ]
  },
  {
   "cell_type": "code",
   "execution_count": 74,
   "id": "94189f21-b49c-4cb6-b21d-d834527abac7",
   "metadata": {},
   "outputs": [
    {
     "data": {
      "text/plain": [
       "[2, 4, 6, 8, 10]"
      ]
     },
     "execution_count": 74,
     "metadata": {},
     "output_type": "execute_result"
    }
   ],
   "source": [
    "list(range(2, 11, 2))"
   ]
  },
  {
   "cell_type": "markdown",
   "id": "6fdaf498-0899-4938-babd-0a54c2a0e241",
   "metadata": {},
   "source": [
    "### Exercise: Lists and ranges\n",
    "#### 1: List indexing\n",
    "1. Create a cell with the code below.\n",
    "```python=\n",
    "num_list = [4,5,6,11]\n",
    "```\n",
    "2. Select the 1st element from this list. (Your code should return `4`)\n",
    "3. Select the last element from this list. (Your code should return `11`)\n",
    "4. Make a new list with the second and fourth element in this list. (Your code should return `[5,11]`)\n",
    "\n",
    "#### 2: Ranges\n",
    "1. Create a list with `range()`:\n",
    "```python=\n",
    "list(range(3,12,2))\n",
    "```\n",
    "3. What happens if you change the step value (the third argument) to 1? And to 3? Or to -1? Did you expect this?"
   ]
  },
  {
   "cell_type": "code",
   "execution_count": 75,
   "id": "9e77d42a-151b-4e45-b45f-2739d86429a1",
   "metadata": {},
   "outputs": [],
   "source": [
    "num_list = [4, 5, 6, 11]"
   ]
  },
  {
   "cell_type": "code",
   "execution_count": 76,
   "id": "d0d0e891-a10c-43ad-8120-611dfe12f7bf",
   "metadata": {},
   "outputs": [
    {
     "data": {
      "text/plain": [
       "4"
      ]
     },
     "execution_count": 76,
     "metadata": {},
     "output_type": "execute_result"
    }
   ],
   "source": [
    "num_list[0]"
   ]
  },
  {
   "cell_type": "code",
   "execution_count": 77,
   "id": "736d7eb0-ef9f-4867-8644-1e835bdd974d",
   "metadata": {},
   "outputs": [
    {
     "data": {
      "text/plain": [
       "11"
      ]
     },
     "execution_count": 77,
     "metadata": {},
     "output_type": "execute_result"
    }
   ],
   "source": [
    "num_list[3]"
   ]
  },
  {
   "cell_type": "code",
   "execution_count": 78,
   "id": "ef802e8c-da93-44d8-a269-e86cae664d77",
   "metadata": {},
   "outputs": [
    {
     "data": {
      "text/plain": [
       "11"
      ]
     },
     "execution_count": 78,
     "metadata": {},
     "output_type": "execute_result"
    }
   ],
   "source": [
    "num_list[-1]"
   ]
  },
  {
   "cell_type": "code",
   "execution_count": 79,
   "id": "5ab0d853-66eb-45df-9daa-baa62e28c7de",
   "metadata": {},
   "outputs": [],
   "source": [
    "new_list = [num_list[1], num_list[3]]"
   ]
  },
  {
   "cell_type": "code",
   "execution_count": 80,
   "id": "385ae596-9ad6-442f-b8da-45ce0c22e59a",
   "metadata": {},
   "outputs": [
    {
     "data": {
      "text/plain": [
       "[5, 11]"
      ]
     },
     "execution_count": 80,
     "metadata": {},
     "output_type": "execute_result"
    }
   ],
   "source": [
    "new_list"
   ]
  },
  {
   "cell_type": "code",
   "execution_count": 81,
   "id": "65004df5-a477-4543-84f3-ab6599a5215b",
   "metadata": {},
   "outputs": [
    {
     "data": {
      "text/plain": [
       "[3, 5, 7, 9, 11]"
      ]
     },
     "execution_count": 81,
     "metadata": {},
     "output_type": "execute_result"
    }
   ],
   "source": [
    "newer_list = list(range(3, 12, 2))\n",
    "newer_list"
   ]
  },
  {
   "cell_type": "code",
   "execution_count": 82,
   "id": "1d2d764b-72ec-4530-8763-0a7985475b7f",
   "metadata": {},
   "outputs": [
    {
     "data": {
      "text/plain": [
       "[3, 4, 5, 6, 7, 8, 9, 10, 11]"
      ]
     },
     "execution_count": 82,
     "metadata": {},
     "output_type": "execute_result"
    }
   ],
   "source": [
    "newer_list = list(range(3, 12, 1))\n",
    "newer_list"
   ]
  },
  {
   "cell_type": "code",
   "execution_count": 83,
   "id": "e6b67188-f441-47cd-9559-47eeddfd8c30",
   "metadata": {},
   "outputs": [
    {
     "data": {
      "text/plain": [
       "[3, 6, 9]"
      ]
     },
     "execution_count": 83,
     "metadata": {},
     "output_type": "execute_result"
    }
   ],
   "source": [
    "newer_list = list(range(3, 12, 3))\n",
    "newer_list"
   ]
  },
  {
   "cell_type": "code",
   "execution_count": 85,
   "id": "9a0c2639-140a-4875-8eff-85baf20822da",
   "metadata": {},
   "outputs": [
    {
     "data": {
      "text/plain": [
       "[12, 11, 10, 9, 8, 7, 6, 5, 4]"
      ]
     },
     "execution_count": 85,
     "metadata": {},
     "output_type": "execute_result"
    }
   ],
   "source": [
    "newer_list = list(range(12, 3, -1))\n",
    "newer_list"
   ]
  },
  {
   "cell_type": "markdown",
   "id": "31b4baa2-3c73-42e2-8260-88d5f5273933",
   "metadata": {},
   "source": [
    "- The Jupyter environment can be used to write code segments and display results\n",
    "- Data types in Python are implicit based on variable values\n",
    "- Basic data types are Integer, Float, String and Boolean\n",
    "- Lists are structured data types\n",
    "- Arithmetic uses standard arithmetic operators, precedence can be changed using brackets\n",
    "- Help is available for builtin functions using the `help()` function further help and code examples are available online\n",
    "- In Jupyter you can get help on function parameters using  <kbd>shift</kbd>\\+<kbd>tab</kbd>\n",
    "- Many functions are in fact methods associated with specific object types"
   ]
  },
  {
   "cell_type": "code",
   "execution_count": null,
   "id": "c5819def-a5ec-41f9-a4e2-5645b74f3734",
   "metadata": {},
   "outputs": [],
   "source": []
  }
 ],
 "metadata": {
  "kernelspec": {
   "display_name": "Python 3 (ipykernel)",
   "language": "python",
   "name": "python3"
  },
  "language_info": {
   "codemirror_mode": {
    "name": "ipython",
    "version": 3
   },
   "file_extension": ".py",
   "mimetype": "text/x-python",
   "name": "python",
   "nbconvert_exporter": "python",
   "pygments_lexer": "ipython3",
   "version": "3.11.7"
  }
 },
 "nbformat": 4,
 "nbformat_minor": 5
}
